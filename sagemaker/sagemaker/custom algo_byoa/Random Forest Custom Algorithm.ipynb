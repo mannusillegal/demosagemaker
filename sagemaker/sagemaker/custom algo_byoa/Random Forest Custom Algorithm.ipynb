{
 "cells": [
  {
   "cell_type": "markdown",
   "metadata": {},
   "source": [
    "# Random Forest using Custom Image\n",
    "\n",
    "You will be working with the heart disease data to build a random forest model in this segment to predict whether a person is suffering from heart disease or not.\n",
    "- Heart disease = 0 means that the person does not have heart disease.\n",
    "- Heart disease = 1 means that the person has heart disease.\n",
    "- sex = 0 means that the person is female.\n",
    "- sex = 1 means that the person is male.\n",
    "- BP: Blood Pressure\n",
    "- Cholestrol: Cholestrol level"
   ]
  },
  {
   "cell_type": "code",
   "execution_count": 1,
   "metadata": {},
   "outputs": [],
   "source": [
    "# Import required libraries:\n",
    "import os\n",
    "import sys\n",
    "\n",
    "import pandas as pd\n",
    "import numpy as np\n",
    "\n",
    "import matplotlib.pyplot as plt\n",
    "import itertools"
   ]
  },
  {
   "cell_type": "markdown",
   "metadata": {},
   "source": [
    "## Fetch data"
   ]
  },
  {
   "cell_type": "code",
   "execution_count": 2,
   "metadata": {},
   "outputs": [
    {
     "data": {
      "text/html": [
       "<div>\n",
       "<style scoped>\n",
       "    .dataframe tbody tr th:only-of-type {\n",
       "        vertical-align: middle;\n",
       "    }\n",
       "\n",
       "    .dataframe tbody tr th {\n",
       "        vertical-align: top;\n",
       "    }\n",
       "\n",
       "    .dataframe thead th {\n",
       "        text-align: right;\n",
       "    }\n",
       "</style>\n",
       "<table border=\"1\" class=\"dataframe\">\n",
       "  <thead>\n",
       "    <tr style=\"text-align: right;\">\n",
       "      <th></th>\n",
       "      <th>age</th>\n",
       "      <th>sex</th>\n",
       "      <th>BP</th>\n",
       "      <th>cholestrol</th>\n",
       "      <th>heart disease</th>\n",
       "    </tr>\n",
       "  </thead>\n",
       "  <tbody>\n",
       "    <tr>\n",
       "      <th>0</th>\n",
       "      <td>70</td>\n",
       "      <td>1</td>\n",
       "      <td>130</td>\n",
       "      <td>322</td>\n",
       "      <td>1</td>\n",
       "    </tr>\n",
       "    <tr>\n",
       "      <th>1</th>\n",
       "      <td>67</td>\n",
       "      <td>0</td>\n",
       "      <td>115</td>\n",
       "      <td>564</td>\n",
       "      <td>0</td>\n",
       "    </tr>\n",
       "    <tr>\n",
       "      <th>2</th>\n",
       "      <td>57</td>\n",
       "      <td>1</td>\n",
       "      <td>124</td>\n",
       "      <td>261</td>\n",
       "      <td>1</td>\n",
       "    </tr>\n",
       "    <tr>\n",
       "      <th>3</th>\n",
       "      <td>64</td>\n",
       "      <td>1</td>\n",
       "      <td>128</td>\n",
       "      <td>263</td>\n",
       "      <td>0</td>\n",
       "    </tr>\n",
       "    <tr>\n",
       "      <th>4</th>\n",
       "      <td>74</td>\n",
       "      <td>0</td>\n",
       "      <td>120</td>\n",
       "      <td>269</td>\n",
       "      <td>0</td>\n",
       "    </tr>\n",
       "  </tbody>\n",
       "</table>\n",
       "</div>"
      ],
      "text/plain": [
       "   age  sex   BP  cholestrol  heart disease\n",
       "0   70    1  130         322              1\n",
       "1   67    0  115         564              0\n",
       "2   57    1  124         261              1\n",
       "3   64    1  128         263              0\n",
       "4   74    0  120         269              0"
      ]
     },
     "execution_count": 2,
     "metadata": {},
     "output_type": "execute_result"
    }
   ],
   "source": [
    "# Load the data into dataframe: \n",
    "df = pd.read_csv('heart_v2.csv')\n",
    "df.head()"
   ]
  },
  {
   "cell_type": "markdown",
   "metadata": {},
   "source": [
    "## Prepare data"
   ]
  },
  {
   "cell_type": "code",
   "execution_count": 5,
   "metadata": {},
   "outputs": [
    {
     "data": {
      "text/plain": [
       "Index(['age', 'sex', 'BP', 'cholestrol'], dtype='object')"
      ]
     },
     "execution_count": 5,
     "metadata": {},
     "output_type": "execute_result"
    }
   ],
   "source": [
    "df.columns[:-1]"
   ]
  },
  {
   "cell_type": "code",
   "execution_count": 6,
   "metadata": {},
   "outputs": [
    {
     "data": {
      "text/plain": [
       "['heart disease', 'age', 'sex', 'BP', 'cholestrol']"
      ]
     },
     "execution_count": 6,
     "metadata": {},
     "output_type": "execute_result"
    }
   ],
   "source": [
    "# Select required columns:\n",
    "columnReq=[list(df.columns)[-1]]+list(df.columns)[:-1]\n",
    "columnReq"
   ]
  },
  {
   "cell_type": "code",
   "execution_count": 7,
   "metadata": {},
   "outputs": [],
   "source": [
    "# Update the dataframe:\n",
    "df=df[columnReq]"
   ]
  },
  {
   "cell_type": "code",
   "execution_count": 8,
   "metadata": {},
   "outputs": [
    {
     "data": {
      "text/html": [
       "<div>\n",
       "<style scoped>\n",
       "    .dataframe tbody tr th:only-of-type {\n",
       "        vertical-align: middle;\n",
       "    }\n",
       "\n",
       "    .dataframe tbody tr th {\n",
       "        vertical-align: top;\n",
       "    }\n",
       "\n",
       "    .dataframe thead th {\n",
       "        text-align: right;\n",
       "    }\n",
       "</style>\n",
       "<table border=\"1\" class=\"dataframe\">\n",
       "  <thead>\n",
       "    <tr style=\"text-align: right;\">\n",
       "      <th></th>\n",
       "      <th>heart disease</th>\n",
       "      <th>age</th>\n",
       "      <th>sex</th>\n",
       "      <th>BP</th>\n",
       "      <th>cholestrol</th>\n",
       "    </tr>\n",
       "  </thead>\n",
       "  <tbody>\n",
       "    <tr>\n",
       "      <th>0</th>\n",
       "      <td>1</td>\n",
       "      <td>70</td>\n",
       "      <td>1</td>\n",
       "      <td>130</td>\n",
       "      <td>322</td>\n",
       "    </tr>\n",
       "    <tr>\n",
       "      <th>1</th>\n",
       "      <td>0</td>\n",
       "      <td>67</td>\n",
       "      <td>0</td>\n",
       "      <td>115</td>\n",
       "      <td>564</td>\n",
       "    </tr>\n",
       "    <tr>\n",
       "      <th>2</th>\n",
       "      <td>1</td>\n",
       "      <td>57</td>\n",
       "      <td>1</td>\n",
       "      <td>124</td>\n",
       "      <td>261</td>\n",
       "    </tr>\n",
       "    <tr>\n",
       "      <th>3</th>\n",
       "      <td>0</td>\n",
       "      <td>64</td>\n",
       "      <td>1</td>\n",
       "      <td>128</td>\n",
       "      <td>263</td>\n",
       "    </tr>\n",
       "    <tr>\n",
       "      <th>4</th>\n",
       "      <td>0</td>\n",
       "      <td>74</td>\n",
       "      <td>0</td>\n",
       "      <td>120</td>\n",
       "      <td>269</td>\n",
       "    </tr>\n",
       "  </tbody>\n",
       "</table>\n",
       "</div>"
      ],
      "text/plain": [
       "   heart disease  age  sex   BP  cholestrol\n",
       "0              1   70    1  130         322\n",
       "1              0   67    0  115         564\n",
       "2              1   57    1  124         261\n",
       "3              0   64    1  128         263\n",
       "4              0   74    0  120         269"
      ]
     },
     "execution_count": 8,
     "metadata": {},
     "output_type": "execute_result"
    }
   ],
   "source": [
    "# View the updated dataframe:\n",
    "df.head()"
   ]
  },
  {
   "cell_type": "code",
   "execution_count": 9,
   "metadata": {},
   "outputs": [
    {
     "data": {
      "text/html": [
       "<div>\n",
       "<style scoped>\n",
       "    .dataframe tbody tr th:only-of-type {\n",
       "        vertical-align: middle;\n",
       "    }\n",
       "\n",
       "    .dataframe tbody tr th {\n",
       "        vertical-align: top;\n",
       "    }\n",
       "\n",
       "    .dataframe thead th {\n",
       "        text-align: right;\n",
       "    }\n",
       "</style>\n",
       "<table border=\"1\" class=\"dataframe\">\n",
       "  <thead>\n",
       "    <tr style=\"text-align: right;\">\n",
       "      <th></th>\n",
       "      <th>age</th>\n",
       "      <th>sex</th>\n",
       "      <th>BP</th>\n",
       "      <th>cholestrol</th>\n",
       "    </tr>\n",
       "  </thead>\n",
       "  <tbody>\n",
       "    <tr>\n",
       "      <th>0</th>\n",
       "      <td>70</td>\n",
       "      <td>1</td>\n",
       "      <td>130</td>\n",
       "      <td>322</td>\n",
       "    </tr>\n",
       "    <tr>\n",
       "      <th>1</th>\n",
       "      <td>67</td>\n",
       "      <td>0</td>\n",
       "      <td>115</td>\n",
       "      <td>564</td>\n",
       "    </tr>\n",
       "    <tr>\n",
       "      <th>2</th>\n",
       "      <td>57</td>\n",
       "      <td>1</td>\n",
       "      <td>124</td>\n",
       "      <td>261</td>\n",
       "    </tr>\n",
       "    <tr>\n",
       "      <th>3</th>\n",
       "      <td>64</td>\n",
       "      <td>1</td>\n",
       "      <td>128</td>\n",
       "      <td>263</td>\n",
       "    </tr>\n",
       "    <tr>\n",
       "      <th>4</th>\n",
       "      <td>74</td>\n",
       "      <td>0</td>\n",
       "      <td>120</td>\n",
       "      <td>269</td>\n",
       "    </tr>\n",
       "  </tbody>\n",
       "</table>\n",
       "</div>"
      ],
      "text/plain": [
       "   age  sex   BP  cholestrol\n",
       "0   70    1  130         322\n",
       "1   67    0  115         564\n",
       "2   57    1  124         261\n",
       "3   64    1  128         263\n",
       "4   74    0  120         269"
      ]
     },
     "execution_count": 9,
     "metadata": {},
     "output_type": "execute_result"
    }
   ],
   "source": [
    "# Select all columns except the target column and save it in X:\n",
    "X=df.iloc[:,1:]\n",
    "X.head()"
   ]
  },
  {
   "cell_type": "code",
   "execution_count": 10,
   "metadata": {},
   "outputs": [
    {
     "data": {
      "text/html": [
       "<div>\n",
       "<style scoped>\n",
       "    .dataframe tbody tr th:only-of-type {\n",
       "        vertical-align: middle;\n",
       "    }\n",
       "\n",
       "    .dataframe tbody tr th {\n",
       "        vertical-align: top;\n",
       "    }\n",
       "\n",
       "    .dataframe thead th {\n",
       "        text-align: right;\n",
       "    }\n",
       "</style>\n",
       "<table border=\"1\" class=\"dataframe\">\n",
       "  <thead>\n",
       "    <tr style=\"text-align: right;\">\n",
       "      <th></th>\n",
       "      <th>heart disease</th>\n",
       "    </tr>\n",
       "  </thead>\n",
       "  <tbody>\n",
       "    <tr>\n",
       "      <th>0</th>\n",
       "      <td>1</td>\n",
       "    </tr>\n",
       "    <tr>\n",
       "      <th>1</th>\n",
       "      <td>0</td>\n",
       "    </tr>\n",
       "    <tr>\n",
       "      <th>2</th>\n",
       "      <td>1</td>\n",
       "    </tr>\n",
       "    <tr>\n",
       "      <th>3</th>\n",
       "      <td>0</td>\n",
       "    </tr>\n",
       "    <tr>\n",
       "      <th>4</th>\n",
       "      <td>0</td>\n",
       "    </tr>\n",
       "  </tbody>\n",
       "</table>\n",
       "</div>"
      ],
      "text/plain": [
       "   heart disease\n",
       "0              1\n",
       "1              0\n",
       "2              1\n",
       "3              0\n",
       "4              0"
      ]
     },
     "execution_count": 10,
     "metadata": {},
     "output_type": "execute_result"
    }
   ],
   "source": [
    "# Select and save the target variable in y:\n",
    "y=df.iloc[:,0:1]\n",
    "y.head()"
   ]
  },
  {
   "cell_type": "code",
   "execution_count": 12,
   "metadata": {},
   "outputs": [],
   "source": [
    "# Import required libraries:\n",
    "from sklearn.model_selection import train_test_split"
   ]
  },
  {
   "cell_type": "code",
   "execution_count": 13,
   "metadata": {},
   "outputs": [
    {
     "data": {
      "text/plain": [
       "((189, 4), (81, 4))"
      ]
     },
     "execution_count": 13,
     "metadata": {},
     "output_type": "execute_result"
    }
   ],
   "source": [
    "# Split the data into train-test split:\n",
    "X_train, X_test, y_train, y_test = train_test_split(X, y, train_size=0.7, random_state=42)\n",
    "X_train.shape, X_test.shape"
   ]
  },
  {
   "cell_type": "code",
   "execution_count": 14,
   "metadata": {},
   "outputs": [
    {
     "data": {
      "text/html": [
       "<div>\n",
       "<style scoped>\n",
       "    .dataframe tbody tr th:only-of-type {\n",
       "        vertical-align: middle;\n",
       "    }\n",
       "\n",
       "    .dataframe tbody tr th {\n",
       "        vertical-align: top;\n",
       "    }\n",
       "\n",
       "    .dataframe thead th {\n",
       "        text-align: right;\n",
       "    }\n",
       "</style>\n",
       "<table border=\"1\" class=\"dataframe\">\n",
       "  <thead>\n",
       "    <tr style=\"text-align: right;\">\n",
       "      <th></th>\n",
       "      <th>heart disease</th>\n",
       "      <th>age</th>\n",
       "      <th>sex</th>\n",
       "      <th>BP</th>\n",
       "      <th>cholestrol</th>\n",
       "    </tr>\n",
       "  </thead>\n",
       "  <tbody>\n",
       "    <tr>\n",
       "      <th>84</th>\n",
       "      <td>0</td>\n",
       "      <td>57</td>\n",
       "      <td>1</td>\n",
       "      <td>110</td>\n",
       "      <td>201</td>\n",
       "    </tr>\n",
       "    <tr>\n",
       "      <th>251</th>\n",
       "      <td>0</td>\n",
       "      <td>44</td>\n",
       "      <td>1</td>\n",
       "      <td>130</td>\n",
       "      <td>219</td>\n",
       "    </tr>\n",
       "    <tr>\n",
       "      <th>92</th>\n",
       "      <td>1</td>\n",
       "      <td>54</td>\n",
       "      <td>1</td>\n",
       "      <td>124</td>\n",
       "      <td>266</td>\n",
       "    </tr>\n",
       "    <tr>\n",
       "      <th>201</th>\n",
       "      <td>1</td>\n",
       "      <td>58</td>\n",
       "      <td>1</td>\n",
       "      <td>125</td>\n",
       "      <td>300</td>\n",
       "    </tr>\n",
       "    <tr>\n",
       "      <th>126</th>\n",
       "      <td>1</td>\n",
       "      <td>62</td>\n",
       "      <td>1</td>\n",
       "      <td>120</td>\n",
       "      <td>267</td>\n",
       "    </tr>\n",
       "  </tbody>\n",
       "</table>\n",
       "</div>"
      ],
      "text/plain": [
       "     heart disease  age  sex   BP  cholestrol\n",
       "84               0   57    1  110         201\n",
       "251              0   44    1  130         219\n",
       "92               1   54    1  124         266\n",
       "201              1   58    1  125         300\n",
       "126              1   62    1  120         267"
      ]
     },
     "execution_count": 14,
     "metadata": {},
     "output_type": "execute_result"
    }
   ],
   "source": [
    "# View the train data:\n",
    "train=y_train.join(X_train)\n",
    "train.head()"
   ]
  },
  {
   "cell_type": "code",
   "execution_count": 15,
   "metadata": {},
   "outputs": [
    {
     "data": {
      "text/html": [
       "<div>\n",
       "<style scoped>\n",
       "    .dataframe tbody tr th:only-of-type {\n",
       "        vertical-align: middle;\n",
       "    }\n",
       "\n",
       "    .dataframe tbody tr th {\n",
       "        vertical-align: top;\n",
       "    }\n",
       "\n",
       "    .dataframe thead th {\n",
       "        text-align: right;\n",
       "    }\n",
       "</style>\n",
       "<table border=\"1\" class=\"dataframe\">\n",
       "  <thead>\n",
       "    <tr style=\"text-align: right;\">\n",
       "      <th></th>\n",
       "      <th>heart disease</th>\n",
       "      <th>age</th>\n",
       "      <th>sex</th>\n",
       "      <th>BP</th>\n",
       "      <th>cholestrol</th>\n",
       "    </tr>\n",
       "  </thead>\n",
       "  <tbody>\n",
       "    <tr>\n",
       "      <th>30</th>\n",
       "      <td>1</td>\n",
       "      <td>57</td>\n",
       "      <td>1</td>\n",
       "      <td>128</td>\n",
       "      <td>229</td>\n",
       "    </tr>\n",
       "    <tr>\n",
       "      <th>116</th>\n",
       "      <td>1</td>\n",
       "      <td>46</td>\n",
       "      <td>1</td>\n",
       "      <td>120</td>\n",
       "      <td>249</td>\n",
       "    </tr>\n",
       "    <tr>\n",
       "      <th>79</th>\n",
       "      <td>0</td>\n",
       "      <td>56</td>\n",
       "      <td>1</td>\n",
       "      <td>120</td>\n",
       "      <td>236</td>\n",
       "    </tr>\n",
       "    <tr>\n",
       "      <th>127</th>\n",
       "      <td>0</td>\n",
       "      <td>52</td>\n",
       "      <td>0</td>\n",
       "      <td>136</td>\n",
       "      <td>196</td>\n",
       "    </tr>\n",
       "    <tr>\n",
       "      <th>196</th>\n",
       "      <td>0</td>\n",
       "      <td>58</td>\n",
       "      <td>0</td>\n",
       "      <td>100</td>\n",
       "      <td>248</td>\n",
       "    </tr>\n",
       "  </tbody>\n",
       "</table>\n",
       "</div>"
      ],
      "text/plain": [
       "     heart disease  age  sex   BP  cholestrol\n",
       "30               1   57    1  128         229\n",
       "116              1   46    1  120         249\n",
       "79               0   56    1  120         236\n",
       "127              0   52    0  136         196\n",
       "196              0   58    0  100         248"
      ]
     },
     "execution_count": 15,
     "metadata": {},
     "output_type": "execute_result"
    }
   ],
   "source": [
    "# View test data:\n",
    "test=y_test.join(X_test)\n",
    "test.head()"
   ]
  },
  {
   "cell_type": "code",
   "execution_count": 16,
   "metadata": {},
   "outputs": [],
   "source": [
    "# Save train data:\n",
    "train.to_csv('rftrain.csv',index=False,header=False)"
   ]
  },
  {
   "cell_type": "code",
   "execution_count": 17,
   "metadata": {},
   "outputs": [],
   "source": [
    "# Save test data: \n",
    "test.to_csv('rftest.csv',index=False,header=False)"
   ]
  },
  {
   "cell_type": "code",
   "execution_count": 18,
   "metadata": {},
   "outputs": [
    {
     "name": "stdout",
     "output_type": "stream",
     "text": [
      "SageMaker instance route table setup is ok. We are good to go.\r\n",
      "SageMaker instance routing for Docker is ok. We are good to go!\r\n"
     ]
    }
   ],
   "source": [
    "!/bin/bash ./setup.sh"
   ]
  },
  {
   "cell_type": "code",
   "execution_count": 19,
   "metadata": {},
   "outputs": [],
   "source": [
    "import sagemaker\n",
    "from sagemaker import get_execution_role\n",
    "from sklearn import preprocessing\n",
    "from sklearn.metrics import classification_report,confusion_matrix"
   ]
  },
  {
   "cell_type": "code",
   "execution_count": 20,
   "metadata": {},
   "outputs": [],
   "source": [
    "from sagemaker.sklearn.estimator import SKLearn"
   ]
  },
  {
   "cell_type": "code",
   "execution_count": 21,
   "metadata": {},
   "outputs": [],
   "source": [
    "sagemaker_session=sagemaker.Session()\n",
    "role=get_execution_role()"
   ]
  },
  {
   "cell_type": "code",
   "execution_count": 22,
   "metadata": {},
   "outputs": [],
   "source": [
    "region=sagemaker_session.boto_session.region_name"
   ]
  },
  {
   "cell_type": "code",
   "execution_count": 23,
   "metadata": {},
   "outputs": [
    {
     "data": {
      "text/plain": [
       "'us-east-1'"
      ]
     },
     "execution_count": 23,
     "metadata": {},
     "output_type": "execute_result"
    }
   ],
   "source": [
    "region"
   ]
  },
  {
   "cell_type": "code",
   "execution_count": 24,
   "metadata": {},
   "outputs": [],
   "source": [
    "train_file=\"rftrain.csv\"\n",
    "test_file=\"rftest.csv\"\n",
    "bucket_name=\"ec2-east-sagemaker-demo\""
   ]
  },
  {
   "cell_type": "code",
   "execution_count": 25,
   "metadata": {},
   "outputs": [],
   "source": [
    "import re"
   ]
  },
  {
   "cell_type": "code",
   "execution_count": 27,
   "metadata": {},
   "outputs": [],
   "source": [
    "training_folder=r'BYOA/train'\n",
    "test_folder=r'BYOA/test'\n",
    "model_folder=r'BYOA/model/'"
   ]
  },
  {
   "cell_type": "code",
   "execution_count": 28,
   "metadata": {},
   "outputs": [],
   "source": [
    "training_data_uri=r's3://'+bucket_name+r'/'+training_folder"
   ]
  },
  {
   "cell_type": "code",
   "execution_count": 29,
   "metadata": {},
   "outputs": [
    {
     "data": {
      "text/plain": [
       "'s3://ec2-east-sagemaker-demo/BYOA/train'"
      ]
     },
     "execution_count": 29,
     "metadata": {},
     "output_type": "execute_result"
    }
   ],
   "source": [
    "training_data_uri"
   ]
  },
  {
   "cell_type": "code",
   "execution_count": 30,
   "metadata": {},
   "outputs": [],
   "source": [
    "testing_data_uri=r's3://'+bucket_name+r'/'+test_folder\n",
    "model_data_uri=r's3://'+bucket_name+r'/'+model_folder"
   ]
  },
  {
   "cell_type": "code",
   "execution_count": 32,
   "metadata": {},
   "outputs": [
    {
     "data": {
      "text/plain": [
       "'s3://ec2-east-sagemaker-demo/BYOA/train/rftrain.csv'"
      ]
     },
     "execution_count": 32,
     "metadata": {},
     "output_type": "execute_result"
    }
   ],
   "source": [
    "sagemaker_session.upload_data(train_file,\n",
    "                             bucket=bucket_name,\n",
    "                             key_prefix=training_folder\n",
    "                             \n",
    "                             )"
   ]
  },
  {
   "cell_type": "code",
   "execution_count": 33,
   "metadata": {},
   "outputs": [
    {
     "data": {
      "text/plain": [
       "'s3://ec2-east-sagemaker-demo/BYOA/test/rftest.csv'"
      ]
     },
     "execution_count": 33,
     "metadata": {},
     "output_type": "execute_result"
    }
   ],
   "source": [
    "sagemaker_session.upload_data(test_file,\n",
    "                             bucket=bucket_name,\n",
    "                             key_prefix=test_folder\n",
    "                             \n",
    "                             )"
   ]
  },
  {
   "cell_type": "code",
   "execution_count": 34,
   "metadata": {},
   "outputs": [
    {
     "name": "stdout",
     "output_type": "stream",
     "text": [
      "\u001b[37m#!/usr/bin/env python\u001b[39;49;00m\r\n",
      "\u001b[37m# coding: utf-8\u001b[39;49;00m\r\n",
      "\r\n",
      "\u001b[37m# In[1]:\u001b[39;49;00m\r\n",
      "\r\n",
      "\r\n",
      "\u001b[34mimport\u001b[39;49;00m \u001b[04m\u001b[36margparse\u001b[39;49;00m\r\n",
      "\u001b[34mimport\u001b[39;49;00m \u001b[04m\u001b[36mos\u001b[39;49;00m\r\n",
      "\u001b[34mimport\u001b[39;49;00m \u001b[04m\u001b[36mpandas\u001b[39;49;00m \u001b[34mas\u001b[39;49;00m \u001b[04m\u001b[36mpd\u001b[39;49;00m\r\n",
      "\u001b[34mimport\u001b[39;49;00m \u001b[04m\u001b[36mjson\u001b[39;49;00m\r\n",
      "\r\n",
      "\u001b[34mfrom\u001b[39;49;00m \u001b[04m\u001b[36msklearn\u001b[39;49;00m \u001b[34mimport\u001b[39;49;00m ensemble\r\n",
      "\u001b[34mfrom\u001b[39;49;00m \u001b[04m\u001b[36msklearn\u001b[39;49;00m\u001b[04m\u001b[36m.\u001b[39;49;00m\u001b[04m\u001b[36mexternals\u001b[39;49;00m \u001b[34mimport\u001b[39;49;00m joblib\r\n",
      "\r\n",
      "\r\n",
      "\u001b[37m# In[ ]:\u001b[39;49;00m\r\n",
      "\r\n",
      "\r\n",
      "\u001b[37m#Define the Parameter in envirorment variable \u001b[39;49;00m\r\n",
      "\r\n",
      "\r\n",
      "\u001b[37m# In[7]:\u001b[39;49;00m\r\n",
      "\r\n",
      "\r\n",
      "\u001b[34mdef\u001b[39;49;00m \u001b[32mparse_args\u001b[39;49;00m():\r\n",
      "    parser = argparse.ArgumentParser()\r\n",
      "\r\n",
      "    \u001b[37m# Hyperparameters used for Training\u001b[39;49;00m\r\n",
      "    parser.add_argument(\u001b[33m'\u001b[39;49;00m\u001b[33m--n_estimators\u001b[39;49;00m\u001b[33m'\u001b[39;49;00m, \u001b[36mtype\u001b[39;49;00m=\u001b[36mint\u001b[39;49;00m, default=\u001b[34m100\u001b[39;49;00m)\r\n",
      "    parser.add_argument(\u001b[33m'\u001b[39;49;00m\u001b[33m--max_depth\u001b[39;49;00m\u001b[33m'\u001b[39;49;00m, \u001b[36mtype\u001b[39;49;00m=\u001b[36mint\u001b[39;49;00m, default=\u001b[34m5\u001b[39;49;00m)\r\n",
      "    \r\n",
      "    \u001b[37m# path for  Input, output and model directory \u001b[39;49;00m\r\n",
      "    parser.add_argument(\u001b[33m'\u001b[39;49;00m\u001b[33m--output-data-dir\u001b[39;49;00m\u001b[33m'\u001b[39;49;00m, \u001b[36mtype\u001b[39;49;00m=\u001b[36mstr\u001b[39;49;00m, default=os.environ[\u001b[33m'\u001b[39;49;00m\u001b[33mSM_OUTPUT_DATA_DIR\u001b[39;49;00m\u001b[33m'\u001b[39;49;00m])\r\n",
      "    parser.add_argument(\u001b[33m'\u001b[39;49;00m\u001b[33m--model-dir\u001b[39;49;00m\u001b[33m'\u001b[39;49;00m, \u001b[36mtype\u001b[39;49;00m=\u001b[36mstr\u001b[39;49;00m, default=os.environ.get(\u001b[33m'\u001b[39;49;00m\u001b[33mSM_MODEL_DIR\u001b[39;49;00m\u001b[33m'\u001b[39;49;00m))\r\n",
      "    parser.add_argument(\u001b[33m'\u001b[39;49;00m\u001b[33m--train\u001b[39;49;00m\u001b[33m'\u001b[39;49;00m, \u001b[36mtype\u001b[39;49;00m=\u001b[36mstr\u001b[39;49;00m, default=os.environ.get(\u001b[33m'\u001b[39;49;00m\u001b[33mSM_CHANNEL_TRAINING\u001b[39;49;00m\u001b[33m'\u001b[39;49;00m))\r\n",
      "    parser.add_argument(\u001b[33m'\u001b[39;49;00m\u001b[33m--test\u001b[39;49;00m\u001b[33m'\u001b[39;49;00m, \u001b[36mtype\u001b[39;49;00m=\u001b[36mstr\u001b[39;49;00m, default=os.environ.get(\u001b[33m'\u001b[39;49;00m\u001b[33mSM_CHANNEL_TESTING\u001b[39;49;00m\u001b[33m'\u001b[39;49;00m))\r\n",
      "    \r\n",
      "    \u001b[37m# Setting variable to host the model\u001b[39;49;00m\r\n",
      "    parser.add_argument(\u001b[33m'\u001b[39;49;00m\u001b[33m--hosts\u001b[39;49;00m\u001b[33m'\u001b[39;49;00m, \u001b[36mtype\u001b[39;49;00m=\u001b[36mlist\u001b[39;49;00m, default=json.loads(os.environ.get(\u001b[33m'\u001b[39;49;00m\u001b[33mSM_HOSTS\u001b[39;49;00m\u001b[33m'\u001b[39;49;00m)))\r\n",
      "    parser.add_argument(\u001b[33m'\u001b[39;49;00m\u001b[33m--current-host\u001b[39;49;00m\u001b[33m'\u001b[39;49;00m, \u001b[36mtype\u001b[39;49;00m=\u001b[36mstr\u001b[39;49;00m, default=os.environ.get(\u001b[33m'\u001b[39;49;00m\u001b[33mSM_CURRENT_HOST\u001b[39;49;00m\u001b[33m'\u001b[39;49;00m))\r\n",
      "\r\n",
      "    \u001b[34mreturn\u001b[39;49;00m parser.parse_known_args()\r\n",
      "\r\n",
      "\r\n",
      "\u001b[37m# In[ ]:\u001b[39;49;00m\r\n",
      "\r\n",
      "\r\n",
      "\u001b[37m# Load data\u001b[39;49;00m\r\n",
      "\r\n",
      "\r\n",
      "\u001b[37m# In[6]:\u001b[39;49;00m\r\n",
      "\r\n",
      "\r\n",
      "\u001b[34mdef\u001b[39;49;00m \u001b[32mload_data\u001b[39;49;00m(file_path, channel):\r\n",
      "    input_files = [ os.path.join(file_path, file) \u001b[34mfor\u001b[39;49;00m file \u001b[35min\u001b[39;49;00m os.listdir(file_path) ]\r\n",
      "    raw_data = [ pd.read_csv(file, header=\u001b[34mNone\u001b[39;49;00m, engine=\u001b[33m\"\u001b[39;49;00m\u001b[33mpython\u001b[39;49;00m\u001b[33m\"\u001b[39;49;00m) \u001b[34mfor\u001b[39;49;00m file \u001b[35min\u001b[39;49;00m input_files ]\r\n",
      "    df = pd.concat(raw_data)    \r\n",
      "    \r\n",
      "    features = df.iloc[:,\u001b[34m1\u001b[39;49;00m:].values\r\n",
      "    label = df.iloc[:,\u001b[34m0\u001b[39;49;00m].values\r\n",
      "   \r\n",
      "    \u001b[34mreturn\u001b[39;49;00m features, label\r\n",
      "\r\n",
      "\r\n",
      "\u001b[37m# In[ ]:\u001b[39;49;00m\r\n",
      "\r\n",
      "\r\n",
      "\u001b[37m# Define Model\u001b[39;49;00m\r\n",
      "\r\n",
      "\r\n",
      "\u001b[37m# In[5]:\u001b[39;49;00m\r\n",
      "\r\n",
      "\r\n",
      "\u001b[34mdef\u001b[39;49;00m \u001b[32mmodel\u001b[39;49;00m(args, x_train, y_train, x_test, y_test):   \r\n",
      "    model = ensemble.RandomForestClassifier(n_estimators=args.n_estimators,max_depth=args.max_depth)\r\n",
      "    model.fit(x_train, y_train)\r\n",
      "    \r\n",
      "    \u001b[36mprint\u001b[39;49;00m(\u001b[33m\"\u001b[39;49;00m\u001b[33mTraining Accuracy: \u001b[39;49;00m\u001b[33m{:.3f}\u001b[39;49;00m\u001b[33m\"\u001b[39;49;00m.format(model.score(x_train,y_train)))\r\n",
      "    \u001b[36mprint\u001b[39;49;00m(\u001b[33m\"\u001b[39;49;00m\u001b[33mTesting Accuracy: \u001b[39;49;00m\u001b[33m{:.3f}\u001b[39;49;00m\u001b[33m\"\u001b[39;49;00m.format(model.score(x_test,y_test)))\r\n",
      "    \r\n",
      "    \u001b[34mreturn\u001b[39;49;00m model\r\n",
      "\r\n",
      "\r\n",
      "\r\n",
      "\u001b[34mdef\u001b[39;49;00m \u001b[32mmodel_fn\u001b[39;49;00m(model_dir):\r\n",
      "    \u001b[33m\"\"\"Deserialized and return fitted model\u001b[39;49;00m\r\n",
      "\u001b[33m    \u001b[39;49;00m\r\n",
      "\u001b[33m    Note that this should have the same name as the serialized model in the main method\u001b[39;49;00m\r\n",
      "\u001b[33m    \"\"\"\u001b[39;49;00m\r\n",
      "    classifier = joblib.load(os.path.join(model_dir, \u001b[33m\"\u001b[39;49;00m\u001b[33mmodel.joblib\u001b[39;49;00m\u001b[33m\"\u001b[39;49;00m))\r\n",
      "    \u001b[36mprint\u001b[39;49;00m(\u001b[33m\"\u001b[39;49;00m\u001b[33m###### Uploaded model########\u001b[39;49;00m\u001b[33m\"\u001b[39;49;00m)\r\n",
      "    \u001b[34mreturn\u001b[39;49;00m classifier\r\n",
      "\r\n",
      "\r\n",
      "\r\n",
      "\u001b[37m# In[ ]:\u001b[39;49;00m\r\n",
      "\r\n",
      "\r\n",
      "\u001b[37m# Main Function\u001b[39;49;00m\r\n",
      "\r\n",
      "\r\n",
      "\u001b[37m# In[8]:\u001b[39;49;00m\r\n",
      "\r\n",
      "\r\n",
      "\u001b[34mif\u001b[39;49;00m \u001b[31m__name__\u001b[39;49;00m == \u001b[33m'\u001b[39;49;00m\u001b[33m__main__\u001b[39;49;00m\u001b[33m'\u001b[39;49;00m:\r\n",
      "    \u001b[36mprint\u001b[39;49;00m(\u001b[33m\"\u001b[39;49;00m\u001b[33m####Starting Main Program#########\u001b[39;49;00m\u001b[33m\"\u001b[39;49;00m)\r\n",
      "    args, unknown = parse_args()\r\n",
      "    \u001b[36mprint\u001b[39;49;00m(\u001b[33m\"\u001b[39;49;00m\u001b[33m####ARG#########\u001b[39;49;00m\u001b[33m\"\u001b[39;49;00m,args)\r\n",
      "    train_data, train_labels = load_data(args.train,\u001b[33m'\u001b[39;49;00m\u001b[33mtrain\u001b[39;49;00m\u001b[33m'\u001b[39;49;00m)\r\n",
      "    \u001b[36mprint\u001b[39;49;00m(\u001b[33m\"\u001b[39;49;00m\u001b[33m#######Successfully Loaded Train\u001b[39;49;00m\u001b[33m\"\u001b[39;49;00m)\r\n",
      "    eval_data, eval_labels = load_data(args.test,\u001b[33m'\u001b[39;49;00m\u001b[33mtest\u001b[39;49;00m\u001b[33m'\u001b[39;49;00m)\r\n",
      "    \u001b[36mprint\u001b[39;49;00m(\u001b[33m\"\u001b[39;49;00m\u001b[33m####### Test Successfully Loaded\u001b[39;49;00m\u001b[33m\"\u001b[39;49;00m)\r\n",
      "    \r\n",
      "    \u001b[36mprint\u001b[39;49;00m(\u001b[33m\"\u001b[39;49;00m\u001b[33m####### Model Started Training\u001b[39;49;00m\u001b[33m\"\u001b[39;49;00m)\r\n",
      "    classifier = model(args, train_data, train_labels, eval_data, eval_labels)\r\n",
      "    joblib.dump(classifier, os.path.join(args.model_dir, \u001b[33m\"\u001b[39;49;00m\u001b[33mmodel.joblib\u001b[39;49;00m\u001b[33m\"\u001b[39;49;00m))\r\n",
      "\r\n",
      "\r\n",
      "\u001b[37m# In[ ]:\u001b[39;49;00m\r\n",
      "\r\n",
      "\r\n",
      "\r\n",
      "\r\n",
      "\r\n",
      "\r\n",
      "\u001b[37m# In[ ]:\u001b[39;49;00m\r\n",
      "\r\n",
      "\r\n",
      "\r\n",
      "\r\n",
      "\r\n",
      "\u001b[37m# In[ ]:\u001b[39;49;00m\r\n",
      "\r\n",
      "\r\n",
      "\r\n",
      "\r\n",
      "\r\n",
      "\u001b[37m# In[ ]:\u001b[39;49;00m\r\n",
      "\r\n",
      "\r\n",
      "\r\n",
      "\r\n",
      "\r\n",
      "\u001b[37m# In[ ]:\u001b[39;49;00m\r\n"
     ]
    }
   ],
   "source": [
    "!pygmentize 'rfcustom.py'"
   ]
  },
  {
   "cell_type": "code",
   "execution_count": 35,
   "metadata": {},
   "outputs": [],
   "source": [
    "instance_type='local'"
   ]
  },
  {
   "cell_type": "code",
   "execution_count": 37,
   "metadata": {},
   "outputs": [
    {
     "name": "stderr",
     "output_type": "stream",
     "text": [
      "This is not the latest supported version. If you would like to use version 0.23-1, please add framework_version=0.23-1 to your constructor.\n"
     ]
    }
   ],
   "source": [
    "estimator=SKLearn(entry_point='rfcustom.py',train_instance_type=instance_type,\n",
    "                 role=role,\n",
    "                  output_path=model_data_uri,\n",
    "                  base_job_name='Custom-Random-Forest-v1',\n",
    "                  hyperparameters={'n_estimators':5,'max_depth':3}\n",
    "                  \n",
    "                 )"
   ]
  },
  {
   "cell_type": "code",
   "execution_count": 38,
   "metadata": {},
   "outputs": [
    {
     "name": "stderr",
     "output_type": "stream",
     "text": [
      "'s3_input' class will be renamed to 'TrainingInput' in SageMaker Python SDK v2.\n",
      "'s3_input' class will be renamed to 'TrainingInput' in SageMaker Python SDK v2.\n"
     ]
    },
    {
     "name": "stdout",
     "output_type": "stream",
     "text": [
      "Creating tmp_562d32e_algo-1-f5tiw_1 ... \n",
      "\u001b[1BAttaching to tmp_562d32e_algo-1-f5tiw_12mdone\u001b[0m\n",
      "\u001b[36malgo-1-f5tiw_1  |\u001b[0m 2020-08-02 13:20:16,250 sagemaker-containers INFO     Imported framework sagemaker_sklearn_container.training\n",
      "\u001b[36malgo-1-f5tiw_1  |\u001b[0m 2020-08-02 13:20:16,253 sagemaker-containers INFO     No GPUs detected (normal if no gpus installed)\n",
      "\u001b[36malgo-1-f5tiw_1  |\u001b[0m 2020-08-02 13:20:16,265 sagemaker_sklearn_container.training INFO     Invoking user training script.\n",
      "\u001b[36malgo-1-f5tiw_1  |\u001b[0m 2020-08-02 13:20:16,404 sagemaker-containers INFO     Module rfcustom does not provide a setup.py. \n",
      "\u001b[36malgo-1-f5tiw_1  |\u001b[0m Generating setup.py\n",
      "\u001b[36malgo-1-f5tiw_1  |\u001b[0m 2020-08-02 13:20:16,404 sagemaker-containers INFO     Generating setup.cfg\n",
      "\u001b[36malgo-1-f5tiw_1  |\u001b[0m 2020-08-02 13:20:16,404 sagemaker-containers INFO     Generating MANIFEST.in\n",
      "\u001b[36malgo-1-f5tiw_1  |\u001b[0m 2020-08-02 13:20:16,404 sagemaker-containers INFO     Installing module with the following command:\n",
      "\u001b[36malgo-1-f5tiw_1  |\u001b[0m /miniconda3/bin/python -m pip install . \n",
      "\u001b[36malgo-1-f5tiw_1  |\u001b[0m Processing /opt/ml/code\n",
      "\u001b[36malgo-1-f5tiw_1  |\u001b[0m Building wheels for collected packages: rfcustom\n",
      "\u001b[36malgo-1-f5tiw_1  |\u001b[0m   Building wheel for rfcustom (setup.py) ... \u001b[?25ldone\n",
      "\u001b[36malgo-1-f5tiw_1  |\u001b[0m \u001b[?25h  Created wheel for rfcustom: filename=rfcustom-1.0.0-py2.py3-none-any.whl size=6402 sha256=8e54cbdb65c43c34ad9facf55c0b6bd9d5d7c506e70feac456cd998626aa7a1b\n",
      "\u001b[36malgo-1-f5tiw_1  |\u001b[0m   Stored in directory: /tmp/pip-ephem-wheel-cache-2tlpfa_z/wheels/35/24/16/37574d11bf9bde50616c67372a334f94fa8356bc7164af8ca3\n",
      "\u001b[36malgo-1-f5tiw_1  |\u001b[0m Successfully built rfcustom\n",
      "\u001b[36malgo-1-f5tiw_1  |\u001b[0m Installing collected packages: rfcustom\n",
      "\u001b[36malgo-1-f5tiw_1  |\u001b[0m Successfully installed rfcustom-1.0.0\n",
      "\u001b[36malgo-1-f5tiw_1  |\u001b[0m 2020-08-02 13:20:17,803 sagemaker-containers INFO     No GPUs detected (normal if no gpus installed)\n",
      "\u001b[36malgo-1-f5tiw_1  |\u001b[0m 2020-08-02 13:20:17,816 sagemaker-containers INFO     Invoking user script\n",
      "\u001b[36malgo-1-f5tiw_1  |\u001b[0m \n",
      "\u001b[36malgo-1-f5tiw_1  |\u001b[0m Training Env:\n",
      "\u001b[36malgo-1-f5tiw_1  |\u001b[0m \n",
      "\u001b[36malgo-1-f5tiw_1  |\u001b[0m {\n",
      "\u001b[36malgo-1-f5tiw_1  |\u001b[0m     \"additional_framework_parameters\": {},\n",
      "\u001b[36malgo-1-f5tiw_1  |\u001b[0m     \"channel_input_dirs\": {\n",
      "\u001b[36malgo-1-f5tiw_1  |\u001b[0m         \"training\": \"/opt/ml/input/data/training\",\n",
      "\u001b[36malgo-1-f5tiw_1  |\u001b[0m         \"testing\": \"/opt/ml/input/data/testing\"\n",
      "\u001b[36malgo-1-f5tiw_1  |\u001b[0m     },\n",
      "\u001b[36malgo-1-f5tiw_1  |\u001b[0m     \"current_host\": \"algo-1-f5tiw\",\n",
      "\u001b[36malgo-1-f5tiw_1  |\u001b[0m     \"framework_module\": \"sagemaker_sklearn_container.training:main\",\n",
      "\u001b[36malgo-1-f5tiw_1  |\u001b[0m     \"hosts\": [\n",
      "\u001b[36malgo-1-f5tiw_1  |\u001b[0m         \"algo-1-f5tiw\"\n",
      "\u001b[36malgo-1-f5tiw_1  |\u001b[0m     ],\n",
      "\u001b[36malgo-1-f5tiw_1  |\u001b[0m     \"hyperparameters\": {\n",
      "\u001b[36malgo-1-f5tiw_1  |\u001b[0m         \"n_estimators\": 5,\n",
      "\u001b[36malgo-1-f5tiw_1  |\u001b[0m         \"max_depth\": 3\n",
      "\u001b[36malgo-1-f5tiw_1  |\u001b[0m     },\n",
      "\u001b[36malgo-1-f5tiw_1  |\u001b[0m     \"input_config_dir\": \"/opt/ml/input/config\",\n",
      "\u001b[36malgo-1-f5tiw_1  |\u001b[0m     \"input_data_config\": {\n",
      "\u001b[36malgo-1-f5tiw_1  |\u001b[0m         \"training\": {\n",
      "\u001b[36malgo-1-f5tiw_1  |\u001b[0m             \"TrainingInputMode\": \"File\"\n",
      "\u001b[36malgo-1-f5tiw_1  |\u001b[0m         },\n",
      "\u001b[36malgo-1-f5tiw_1  |\u001b[0m         \"testing\": {\n",
      "\u001b[36malgo-1-f5tiw_1  |\u001b[0m             \"TrainingInputMode\": \"File\"\n",
      "\u001b[36malgo-1-f5tiw_1  |\u001b[0m         }\n",
      "\u001b[36malgo-1-f5tiw_1  |\u001b[0m     },\n",
      "\u001b[36malgo-1-f5tiw_1  |\u001b[0m     \"input_dir\": \"/opt/ml/input\",\n",
      "\u001b[36malgo-1-f5tiw_1  |\u001b[0m     \"is_master\": true,\n",
      "\u001b[36malgo-1-f5tiw_1  |\u001b[0m     \"job_name\": \"Custom-Random-Forest-v1-2020-08-02-13-19-19-982\",\n",
      "\u001b[36malgo-1-f5tiw_1  |\u001b[0m     \"log_level\": 20,\n",
      "\u001b[36malgo-1-f5tiw_1  |\u001b[0m     \"master_hostname\": \"algo-1-f5tiw\",\n",
      "\u001b[36malgo-1-f5tiw_1  |\u001b[0m     \"model_dir\": \"/opt/ml/model\",\n",
      "\u001b[36malgo-1-f5tiw_1  |\u001b[0m     \"module_dir\": \"s3://ec2-east-sagemaker-demo/Custom-Random-Forest-v1-2020-08-02-13-19-19-982/source/sourcedir.tar.gz\",\n",
      "\u001b[36malgo-1-f5tiw_1  |\u001b[0m     \"module_name\": \"rfcustom\",\n",
      "\u001b[36malgo-1-f5tiw_1  |\u001b[0m     \"network_interface_name\": \"eth0\",\n",
      "\u001b[36malgo-1-f5tiw_1  |\u001b[0m     \"num_cpus\": 2,\n",
      "\u001b[36malgo-1-f5tiw_1  |\u001b[0m     \"num_gpus\": 0,\n",
      "\u001b[36malgo-1-f5tiw_1  |\u001b[0m     \"output_data_dir\": \"/opt/ml/output/data\",\n",
      "\u001b[36malgo-1-f5tiw_1  |\u001b[0m     \"output_dir\": \"/opt/ml/output\",\n",
      "\u001b[36malgo-1-f5tiw_1  |\u001b[0m     \"output_intermediate_dir\": \"/opt/ml/output/intermediate\",\n",
      "\u001b[36malgo-1-f5tiw_1  |\u001b[0m     \"resource_config\": {\n",
      "\u001b[36malgo-1-f5tiw_1  |\u001b[0m         \"current_host\": \"algo-1-f5tiw\",\n",
      "\u001b[36malgo-1-f5tiw_1  |\u001b[0m         \"hosts\": [\n",
      "\u001b[36malgo-1-f5tiw_1  |\u001b[0m             \"algo-1-f5tiw\"\n",
      "\u001b[36malgo-1-f5tiw_1  |\u001b[0m         ]\n",
      "\u001b[36malgo-1-f5tiw_1  |\u001b[0m     },\n",
      "\u001b[36malgo-1-f5tiw_1  |\u001b[0m     \"user_entry_point\": \"rfcustom.py\"\n",
      "\u001b[36malgo-1-f5tiw_1  |\u001b[0m }\n",
      "\u001b[36malgo-1-f5tiw_1  |\u001b[0m \n",
      "\u001b[36malgo-1-f5tiw_1  |\u001b[0m Environment variables:\n",
      "\u001b[36malgo-1-f5tiw_1  |\u001b[0m \n",
      "\u001b[36malgo-1-f5tiw_1  |\u001b[0m SM_HOSTS=[\"algo-1-f5tiw\"]\n",
      "\u001b[36malgo-1-f5tiw_1  |\u001b[0m SM_NETWORK_INTERFACE_NAME=eth0\n",
      "\u001b[36malgo-1-f5tiw_1  |\u001b[0m SM_HPS={\"max_depth\":3,\"n_estimators\":5}\n",
      "\u001b[36malgo-1-f5tiw_1  |\u001b[0m SM_USER_ENTRY_POINT=rfcustom.py\n",
      "\u001b[36malgo-1-f5tiw_1  |\u001b[0m SM_FRAMEWORK_PARAMS={}\n",
      "\u001b[36malgo-1-f5tiw_1  |\u001b[0m SM_RESOURCE_CONFIG={\"current_host\":\"algo-1-f5tiw\",\"hosts\":[\"algo-1-f5tiw\"]}\n",
      "\u001b[36malgo-1-f5tiw_1  |\u001b[0m SM_INPUT_DATA_CONFIG={\"testing\":{\"TrainingInputMode\":\"File\"},\"training\":{\"TrainingInputMode\":\"File\"}}\n",
      "\u001b[36malgo-1-f5tiw_1  |\u001b[0m SM_OUTPUT_DATA_DIR=/opt/ml/output/data\n",
      "\u001b[36malgo-1-f5tiw_1  |\u001b[0m SM_CHANNELS=[\"testing\",\"training\"]\n",
      "\u001b[36malgo-1-f5tiw_1  |\u001b[0m SM_CURRENT_HOST=algo-1-f5tiw\n",
      "\u001b[36malgo-1-f5tiw_1  |\u001b[0m SM_MODULE_NAME=rfcustom\n",
      "\u001b[36malgo-1-f5tiw_1  |\u001b[0m SM_LOG_LEVEL=20\n",
      "\u001b[36malgo-1-f5tiw_1  |\u001b[0m SM_FRAMEWORK_MODULE=sagemaker_sklearn_container.training:main\n",
      "\u001b[36malgo-1-f5tiw_1  |\u001b[0m SM_INPUT_DIR=/opt/ml/input\n",
      "\u001b[36malgo-1-f5tiw_1  |\u001b[0m SM_INPUT_CONFIG_DIR=/opt/ml/input/config\n",
      "\u001b[36malgo-1-f5tiw_1  |\u001b[0m SM_OUTPUT_DIR=/opt/ml/output\n",
      "\u001b[36malgo-1-f5tiw_1  |\u001b[0m SM_NUM_CPUS=2\n",
      "\u001b[36malgo-1-f5tiw_1  |\u001b[0m SM_NUM_GPUS=0\n",
      "\u001b[36malgo-1-f5tiw_1  |\u001b[0m SM_MODEL_DIR=/opt/ml/model\n",
      "\u001b[36malgo-1-f5tiw_1  |\u001b[0m SM_MODULE_DIR=s3://ec2-east-sagemaker-demo/Custom-Random-Forest-v1-2020-08-02-13-19-19-982/source/sourcedir.tar.gz\n",
      "\u001b[36malgo-1-f5tiw_1  |\u001b[0m SM_TRAINING_ENV={\"additional_framework_parameters\":{},\"channel_input_dirs\":{\"testing\":\"/opt/ml/input/data/testing\",\"training\":\"/opt/ml/input/data/training\"},\"current_host\":\"algo-1-f5tiw\",\"framework_module\":\"sagemaker_sklearn_container.training:main\",\"hosts\":[\"algo-1-f5tiw\"],\"hyperparameters\":{\"max_depth\":3,\"n_estimators\":5},\"input_config_dir\":\"/opt/ml/input/config\",\"input_data_config\":{\"testing\":{\"TrainingInputMode\":\"File\"},\"training\":{\"TrainingInputMode\":\"File\"}},\"input_dir\":\"/opt/ml/input\",\"is_master\":true,\"job_name\":\"Custom-Random-Forest-v1-2020-08-02-13-19-19-982\",\"log_level\":20,\"master_hostname\":\"algo-1-f5tiw\",\"model_dir\":\"/opt/ml/model\",\"module_dir\":\"s3://ec2-east-sagemaker-demo/Custom-Random-Forest-v1-2020-08-02-13-19-19-982/source/sourcedir.tar.gz\",\"module_name\":\"rfcustom\",\"network_interface_name\":\"eth0\",\"num_cpus\":2,\"num_gpus\":0,\"output_data_dir\":\"/opt/ml/output/data\",\"output_dir\":\"/opt/ml/output\",\"output_intermediate_dir\":\"/opt/ml/output/intermediate\",\"resource_config\":{\"current_host\":\"algo-1-f5tiw\",\"hosts\":[\"algo-1-f5tiw\"]},\"user_entry_point\":\"rfcustom.py\"}\n",
      "\u001b[36malgo-1-f5tiw_1  |\u001b[0m SM_USER_ARGS=[\"--max_depth\",\"3\",\"--n_estimators\",\"5\"]\n",
      "\u001b[36malgo-1-f5tiw_1  |\u001b[0m SM_OUTPUT_INTERMEDIATE_DIR=/opt/ml/output/intermediate\n",
      "\u001b[36malgo-1-f5tiw_1  |\u001b[0m SM_CHANNEL_TRAINING=/opt/ml/input/data/training\n",
      "\u001b[36malgo-1-f5tiw_1  |\u001b[0m SM_CHANNEL_TESTING=/opt/ml/input/data/testing\n",
      "\u001b[36malgo-1-f5tiw_1  |\u001b[0m SM_HP_N_ESTIMATORS=5\n",
      "\u001b[36malgo-1-f5tiw_1  |\u001b[0m SM_HP_MAX_DEPTH=3\n",
      "\u001b[36malgo-1-f5tiw_1  |\u001b[0m PYTHONPATH=/miniconda3/bin:/miniconda3/lib/python37.zip:/miniconda3/lib/python3.7:/miniconda3/lib/python3.7/lib-dynload:/miniconda3/lib/python3.7/site-packages\n",
      "\u001b[36malgo-1-f5tiw_1  |\u001b[0m \n",
      "\u001b[36malgo-1-f5tiw_1  |\u001b[0m Invoking script with the following command:\n",
      "\u001b[36malgo-1-f5tiw_1  |\u001b[0m \n",
      "\u001b[36malgo-1-f5tiw_1  |\u001b[0m /miniconda3/bin/python -m rfcustom --max_depth 3 --n_estimators 5\n",
      "\u001b[36malgo-1-f5tiw_1  |\u001b[0m \n",
      "\u001b[36malgo-1-f5tiw_1  |\u001b[0m \n"
     ]
    },
    {
     "name": "stdout",
     "output_type": "stream",
     "text": [
      "\u001b[36malgo-1-f5tiw_1  |\u001b[0m /miniconda3/lib/python3.7/site-packages/sklearn/externals/joblib/externals/cloudpickle/cloudpickle.py:47: DeprecationWarning: the imp module is deprecated in favour of importlib; see the module's documentation for alternative uses\n",
      "\u001b[36malgo-1-f5tiw_1  |\u001b[0m   import imp\n",
      "\u001b[36malgo-1-f5tiw_1  |\u001b[0m ####Starting Main Program#########\n",
      "\u001b[36malgo-1-f5tiw_1  |\u001b[0m ####ARG######### Namespace(current_host='algo-1-f5tiw', hosts=['algo-1-f5tiw'], max_depth=3, model_dir='/opt/ml/model', n_estimators=5, output_data_dir='/opt/ml/output/data', test='/opt/ml/input/data/testing', train='/opt/ml/input/data/training')\n",
      "\u001b[36malgo-1-f5tiw_1  |\u001b[0m #######Successfully Loaded Train\n",
      "\u001b[36malgo-1-f5tiw_1  |\u001b[0m ####### Test Successfully Loaded\n",
      "\u001b[36malgo-1-f5tiw_1  |\u001b[0m ####### Model Started Training\n",
      "\u001b[36malgo-1-f5tiw_1  |\u001b[0m Training Accuracy: 0.730\n",
      "\u001b[36malgo-1-f5tiw_1  |\u001b[0m Testing Accuracy: 0.630\n",
      "\u001b[36malgo-1-f5tiw_1  |\u001b[0m 2020-08-02 13:20:18,562 sagemaker-containers INFO     Reporting training SUCCESS\n",
      "\u001b[36mtmp_562d32e_algo-1-f5tiw_1 exited with code 0\n",
      "\u001b[0mAborting on container exit...\n",
      "===== Job Complete =====\n"
     ]
    }
   ],
   "source": [
    "estimator.fit({'training':training_data_uri,'testing':testing_data_uri})"
   ]
  },
  {
   "cell_type": "code",
   "execution_count": 40,
   "metadata": {},
   "outputs": [
    {
     "name": "stderr",
     "output_type": "stream",
     "text": [
      "Parameter image will be renamed to image_uri in SageMaker Python SDK v2.\n"
     ]
    },
    {
     "name": "stdout",
     "output_type": "stream",
     "text": [
      "Attaching to tmppo8jm0h3_algo-1-sjopc_1\n",
      "\u001b[36malgo-1-sjopc_1  |\u001b[0m Processing /opt/ml/code\n",
      "\u001b[36malgo-1-sjopc_1  |\u001b[0m Building wheels for collected packages: rfcustom\n",
      "\u001b[36malgo-1-sjopc_1  |\u001b[0m   Building wheel for rfcustom (setup.py) ... \u001b[?25ldone\n",
      "\u001b[36malgo-1-sjopc_1  |\u001b[0m \u001b[?25h  Created wheel for rfcustom: filename=rfcustom-1.0.0-py2.py3-none-any.whl size=6401 sha256=fdf0eae7a7ece2830cde105ca0a16d1fbb80e043433e49dd2000412944f1b332\n",
      "\u001b[36malgo-1-sjopc_1  |\u001b[0m   Stored in directory: /tmp/pip-ephem-wheel-cache-_ooei1xf/wheels/35/24/16/37574d11bf9bde50616c67372a334f94fa8356bc7164af8ca3\n",
      "\u001b[36malgo-1-sjopc_1  |\u001b[0m Successfully built rfcustom\n",
      "\u001b[36malgo-1-sjopc_1  |\u001b[0m Installing collected packages: rfcustom\n",
      "\u001b[36malgo-1-sjopc_1  |\u001b[0m Successfully installed rfcustom-1.0.0\n",
      "\u001b[36malgo-1-sjopc_1  |\u001b[0m /miniconda3/lib/python3.7/site-packages/sklearn/externals/joblib/externals/cloudpickle/cloudpickle.py:47: DeprecationWarning: the imp module is deprecated in favour of importlib; see the module's documentation for alternative uses\n",
      "\u001b[36malgo-1-sjopc_1  |\u001b[0m   import imp\n",
      "\u001b[36malgo-1-sjopc_1  |\u001b[0m [2020-08-02 13:27:18 +0000] [30] [INFO] Starting gunicorn 19.9.0\n",
      "\u001b[36malgo-1-sjopc_1  |\u001b[0m [2020-08-02 13:27:18 +0000] [30] [INFO] Listening at: unix:/tmp/gunicorn.sock (30)\n",
      "\u001b[36malgo-1-sjopc_1  |\u001b[0m [2020-08-02 13:27:18 +0000] [30] [INFO] Using worker: gevent\n",
      "\u001b[36malgo-1-sjopc_1  |\u001b[0m [2020-08-02 13:27:18 +0000] [33] [INFO] Booting worker with pid: 33\n",
      "\u001b[36malgo-1-sjopc_1  |\u001b[0m [2020-08-02 13:27:18 +0000] [35] [INFO] Booting worker with pid: 35\n",
      "\u001b[36malgo-1-sjopc_1  |\u001b[0m 2020-08-02 13:27:19,243 INFO - sagemaker-containers - No GPUs detected (normal if no gpus installed)\n",
      "\u001b[36malgo-1-sjopc_1  |\u001b[0m /miniconda3/lib/python3.7/site-packages/sklearn/externals/joblib/externals/cloudpickle/cloudpickle.py:47: DeprecationWarning: the imp module is deprecated in favour of importlib; see the module's documentation for alternative uses\n",
      "\u001b[36malgo-1-sjopc_1  |\u001b[0m   import imp\n",
      "\u001b[36malgo-1-sjopc_1  |\u001b[0m ###### Uploaded model########\n",
      "!\u001b[36malgo-1-sjopc_1  |\u001b[0m 172.18.0.1 - - [02/Aug/2020:13:27:19 +0000] \"GET /ping HTTP/1.1\" 200 0 \"-\" \"-\"\n"
     ]
    }
   ],
   "source": [
    "predictor=estimator.deploy(instance_type=instance_type,initial_instance_count=1)"
   ]
  },
  {
   "cell_type": "code",
   "execution_count": 41,
   "metadata": {},
   "outputs": [],
   "source": [
    "dfinf=pd.read_csv(test_file,names=columnReq)"
   ]
  },
  {
   "cell_type": "code",
   "execution_count": 42,
   "metadata": {},
   "outputs": [
    {
     "data": {
      "text/html": [
       "<div>\n",
       "<style scoped>\n",
       "    .dataframe tbody tr th:only-of-type {\n",
       "        vertical-align: middle;\n",
       "    }\n",
       "\n",
       "    .dataframe tbody tr th {\n",
       "        vertical-align: top;\n",
       "    }\n",
       "\n",
       "    .dataframe thead th {\n",
       "        text-align: right;\n",
       "    }\n",
       "</style>\n",
       "<table border=\"1\" class=\"dataframe\">\n",
       "  <thead>\n",
       "    <tr style=\"text-align: right;\">\n",
       "      <th></th>\n",
       "      <th>heart disease</th>\n",
       "      <th>age</th>\n",
       "      <th>sex</th>\n",
       "      <th>BP</th>\n",
       "      <th>cholestrol</th>\n",
       "    </tr>\n",
       "  </thead>\n",
       "  <tbody>\n",
       "    <tr>\n",
       "      <th>0</th>\n",
       "      <td>1</td>\n",
       "      <td>57</td>\n",
       "      <td>1</td>\n",
       "      <td>128</td>\n",
       "      <td>229</td>\n",
       "    </tr>\n",
       "    <tr>\n",
       "      <th>1</th>\n",
       "      <td>1</td>\n",
       "      <td>46</td>\n",
       "      <td>1</td>\n",
       "      <td>120</td>\n",
       "      <td>249</td>\n",
       "    </tr>\n",
       "    <tr>\n",
       "      <th>2</th>\n",
       "      <td>0</td>\n",
       "      <td>56</td>\n",
       "      <td>1</td>\n",
       "      <td>120</td>\n",
       "      <td>236</td>\n",
       "    </tr>\n",
       "    <tr>\n",
       "      <th>3</th>\n",
       "      <td>0</td>\n",
       "      <td>52</td>\n",
       "      <td>0</td>\n",
       "      <td>136</td>\n",
       "      <td>196</td>\n",
       "    </tr>\n",
       "    <tr>\n",
       "      <th>4</th>\n",
       "      <td>0</td>\n",
       "      <td>58</td>\n",
       "      <td>0</td>\n",
       "      <td>100</td>\n",
       "      <td>248</td>\n",
       "    </tr>\n",
       "  </tbody>\n",
       "</table>\n",
       "</div>"
      ],
      "text/plain": [
       "   heart disease  age  sex   BP  cholestrol\n",
       "0              1   57    1  128         229\n",
       "1              1   46    1  120         249\n",
       "2              0   56    1  120         236\n",
       "3              0   52    0  136         196\n",
       "4              0   58    0  100         248"
      ]
     },
     "execution_count": 42,
     "metadata": {},
     "output_type": "execute_result"
    }
   ],
   "source": [
    "dfinf.head()"
   ]
  },
  {
   "cell_type": "code",
   "execution_count": 43,
   "metadata": {},
   "outputs": [],
   "source": [
    "xtest=dfinf.iloc[:,1:]"
   ]
  },
  {
   "cell_type": "code",
   "execution_count": 44,
   "metadata": {},
   "outputs": [
    {
     "data": {
      "text/html": [
       "<div>\n",
       "<style scoped>\n",
       "    .dataframe tbody tr th:only-of-type {\n",
       "        vertical-align: middle;\n",
       "    }\n",
       "\n",
       "    .dataframe tbody tr th {\n",
       "        vertical-align: top;\n",
       "    }\n",
       "\n",
       "    .dataframe thead th {\n",
       "        text-align: right;\n",
       "    }\n",
       "</style>\n",
       "<table border=\"1\" class=\"dataframe\">\n",
       "  <thead>\n",
       "    <tr style=\"text-align: right;\">\n",
       "      <th></th>\n",
       "      <th>age</th>\n",
       "      <th>sex</th>\n",
       "      <th>BP</th>\n",
       "      <th>cholestrol</th>\n",
       "    </tr>\n",
       "  </thead>\n",
       "  <tbody>\n",
       "    <tr>\n",
       "      <th>0</th>\n",
       "      <td>57</td>\n",
       "      <td>1</td>\n",
       "      <td>128</td>\n",
       "      <td>229</td>\n",
       "    </tr>\n",
       "    <tr>\n",
       "      <th>1</th>\n",
       "      <td>46</td>\n",
       "      <td>1</td>\n",
       "      <td>120</td>\n",
       "      <td>249</td>\n",
       "    </tr>\n",
       "    <tr>\n",
       "      <th>2</th>\n",
       "      <td>56</td>\n",
       "      <td>1</td>\n",
       "      <td>120</td>\n",
       "      <td>236</td>\n",
       "    </tr>\n",
       "    <tr>\n",
       "      <th>3</th>\n",
       "      <td>52</td>\n",
       "      <td>0</td>\n",
       "      <td>136</td>\n",
       "      <td>196</td>\n",
       "    </tr>\n",
       "    <tr>\n",
       "      <th>4</th>\n",
       "      <td>58</td>\n",
       "      <td>0</td>\n",
       "      <td>100</td>\n",
       "      <td>248</td>\n",
       "    </tr>\n",
       "  </tbody>\n",
       "</table>\n",
       "</div>"
      ],
      "text/plain": [
       "   age  sex   BP  cholestrol\n",
       "0   57    1  128         229\n",
       "1   46    1  120         249\n",
       "2   56    1  120         236\n",
       "3   52    0  136         196\n",
       "4   58    0  100         248"
      ]
     },
     "execution_count": 44,
     "metadata": {},
     "output_type": "execute_result"
    }
   ],
   "source": [
    "xtest.head()"
   ]
  },
  {
   "cell_type": "code",
   "execution_count": 45,
   "metadata": {},
   "outputs": [
    {
     "name": "stdout",
     "output_type": "stream",
     "text": [
      "\u001b[36malgo-1-sjopc_1  |\u001b[0m 2020-08-02 13:29:53,998 INFO - sagemaker-containers - No GPUs detected (normal if no gpus installed)\n",
      "\u001b[36malgo-1-sjopc_1  |\u001b[0m /miniconda3/lib/python3.7/site-packages/sklearn/externals/joblib/externals/cloudpickle/cloudpickle.py:47: DeprecationWarning: the imp module is deprecated in favour of importlib; see the module's documentation for alternative uses\n",
      "\u001b[36malgo-1-sjopc_1  |\u001b[0m   import imp\n",
      "\u001b[36malgo-1-sjopc_1  |\u001b[0m ###### Uploaded model########\n",
      "\u001b[36malgo-1-sjopc_1  |\u001b[0m 172.18.0.1 - - [02/Aug/2020:13:29:54 +0000] \"POST /invocations HTTP/1.1\" 200 776 \"-\" \"-\"\n"
     ]
    }
   ],
   "source": [
    "pred=predictor.predict(xtest)"
   ]
  },
  {
   "cell_type": "code",
   "execution_count": 46,
   "metadata": {},
   "outputs": [
    {
     "data": {
      "text/plain": [
       "array([1, 0, 1, 0, 0, 1, 0, 1, 1, 0, 0, 1, 0, 1, 0, 0, 0, 0, 1, 1, 1, 0,\n",
       "       0, 0, 0, 0, 0, 1, 0, 0, 0, 0, 0, 0, 0, 1, 0, 0, 1, 0, 0, 0, 0, 1,\n",
       "       0, 0, 1, 1, 0, 0, 0, 0, 0, 0, 0, 1, 0, 0, 0, 1, 0, 0, 1, 1, 0, 0,\n",
       "       0, 0, 0, 0, 1, 1, 0, 0, 1, 1, 0, 1, 1, 0, 0])"
      ]
     },
     "execution_count": 46,
     "metadata": {},
     "output_type": "execute_result"
    }
   ],
   "source": [
    "pred"
   ]
  },
  {
   "cell_type": "code",
   "execution_count": 48,
   "metadata": {},
   "outputs": [],
   "source": [
    "ytest=dfinf.iloc[:,0:1]"
   ]
  },
  {
   "cell_type": "code",
   "execution_count": 50,
   "metadata": {},
   "outputs": [],
   "source": [
    "ytest=ytest.values"
   ]
  },
  {
   "cell_type": "code",
   "execution_count": 51,
   "metadata": {},
   "outputs": [
    {
     "data": {
      "text/plain": [
       "array([[1],\n",
       "       [1],\n",
       "       [0],\n",
       "       [0],\n",
       "       [0],\n",
       "       [1],\n",
       "       [0],\n",
       "       [0],\n",
       "       [0],\n",
       "       [0],\n",
       "       [0],\n",
       "       [0],\n",
       "       [1],\n",
       "       [1],\n",
       "       [0],\n",
       "       [0],\n",
       "       [1],\n",
       "       [1],\n",
       "       [1],\n",
       "       [0],\n",
       "       [1],\n",
       "       [0],\n",
       "       [1],\n",
       "       [0],\n",
       "       [0],\n",
       "       [1],\n",
       "       [0],\n",
       "       [1],\n",
       "       [0],\n",
       "       [0],\n",
       "       [0],\n",
       "       [0],\n",
       "       [1],\n",
       "       [0],\n",
       "       [1],\n",
       "       [1],\n",
       "       [1],\n",
       "       [1],\n",
       "       [1],\n",
       "       [0],\n",
       "       [0],\n",
       "       [0],\n",
       "       [0],\n",
       "       [0],\n",
       "       [0],\n",
       "       [0],\n",
       "       [0],\n",
       "       [1],\n",
       "       [1],\n",
       "       [0],\n",
       "       [0],\n",
       "       [0],\n",
       "       [0],\n",
       "       [1],\n",
       "       [0],\n",
       "       [1],\n",
       "       [0],\n",
       "       [1],\n",
       "       [0],\n",
       "       [1],\n",
       "       [1],\n",
       "       [1],\n",
       "       [1],\n",
       "       [0],\n",
       "       [1],\n",
       "       [0],\n",
       "       [0],\n",
       "       [0],\n",
       "       [1],\n",
       "       [0],\n",
       "       [0],\n",
       "       [1],\n",
       "       [0],\n",
       "       [1],\n",
       "       [0],\n",
       "       [0],\n",
       "       [0],\n",
       "       [1],\n",
       "       [0],\n",
       "       [0],\n",
       "       [0]])"
      ]
     },
     "execution_count": 51,
     "metadata": {},
     "output_type": "execute_result"
    }
   ],
   "source": [
    "ytest"
   ]
  },
  {
   "cell_type": "code",
   "execution_count": 52,
   "metadata": {},
   "outputs": [
    {
     "data": {
      "text/plain": [
       "array([[37, 12],\n",
       "       [18, 14]])"
      ]
     },
     "execution_count": 52,
     "metadata": {},
     "output_type": "execute_result"
    }
   ],
   "source": [
    "confusion_matrix(ytest,pred)"
   ]
  },
  {
   "cell_type": "code",
   "execution_count": 53,
   "metadata": {},
   "outputs": [
    {
     "data": {
      "text/plain": [
       "'              precision    recall  f1-score   support\\n\\n           0       0.67      0.76      0.71        49\\n           1       0.54      0.44      0.48        32\\n\\n    accuracy                           0.63        81\\n   macro avg       0.61      0.60      0.60        81\\nweighted avg       0.62      0.63      0.62        81\\n'"
      ]
     },
     "execution_count": 53,
     "metadata": {},
     "output_type": "execute_result"
    }
   ],
   "source": [
    "classification_report(ytest,pred)"
   ]
  },
  {
   "cell_type": "code",
   "execution_count": null,
   "metadata": {},
   "outputs": [],
   "source": []
  },
  {
   "cell_type": "code",
   "execution_count": null,
   "metadata": {},
   "outputs": [],
   "source": []
  },
  {
   "cell_type": "code",
   "execution_count": null,
   "metadata": {},
   "outputs": [],
   "source": []
  },
  {
   "cell_type": "code",
   "execution_count": null,
   "metadata": {},
   "outputs": [],
   "source": []
  },
  {
   "cell_type": "code",
   "execution_count": null,
   "metadata": {},
   "outputs": [],
   "source": []
  },
  {
   "cell_type": "code",
   "execution_count": null,
   "metadata": {},
   "outputs": [],
   "source": []
  },
  {
   "cell_type": "code",
   "execution_count": null,
   "metadata": {},
   "outputs": [],
   "source": []
  },
  {
   "cell_type": "code",
   "execution_count": null,
   "metadata": {},
   "outputs": [],
   "source": []
  },
  {
   "cell_type": "code",
   "execution_count": null,
   "metadata": {},
   "outputs": [],
   "source": []
  },
  {
   "cell_type": "code",
   "execution_count": null,
   "metadata": {},
   "outputs": [],
   "source": []
  },
  {
   "cell_type": "code",
   "execution_count": null,
   "metadata": {},
   "outputs": [],
   "source": [
    "!/bin/bash ./setup.sh"
   ]
  },
  {
   "cell_type": "code",
   "execution_count": null,
   "metadata": {},
   "outputs": [],
   "source": [
    "# Import required libraries:\n",
    "import sagemaker\n",
    "from sagemaker import get_execution_role\n",
    "from sklearn import preprocessing\n",
    "from sklearn.metrics import classification_report, confusion_matrix\n",
    "\n",
    "# SageMaker SKLearn Estimator\n",
    "from sagemaker.sklearn.estimator import SKLearn"
   ]
  },
  {
   "cell_type": "code",
   "execution_count": null,
   "metadata": {},
   "outputs": [],
   "source": [
    "# Create SageMaker session:\n",
    "sagemaker_session = sagemaker.Session()\n",
    "\n",
    "role = get_execution_role()\n",
    "region = sagemaker_session.boto_session.region_name"
   ]
  },
  {
   "cell_type": "code",
   "execution_count": null,
   "metadata": {},
   "outputs": [],
   "source": [
    "# Specify your bucket name:\n",
    "train_file='rftrain.csv'\n",
    "test_file='rftest.csv'\n",
    "bucket_name = 'ec2-east-sagemaker-demo'\n",
    "\n",
    "# Specify file names:\n",
    "training_folder = r'BYOA/train'\n",
    "test_folder = r'BYOA/test'\n",
    "model_folder = r'BYOA/model/'\n",
    "\n",
    "# Save files to S3\n",
    "training_data_uri = r's3://' + bucket_name + r'/' + training_folder\n",
    "testing_data_uri = r's3://' + bucket_name + r'/' + test_folder\n",
    "model_data_uri = r's3://' + bucket_name + r'/' + model_folder"
   ]
  },
  {
   "cell_type": "code",
   "execution_count": null,
   "metadata": {},
   "outputs": [],
   "source": [
    "# Upload train data:\n",
    "sagemaker_session.upload_data(train_file,\n",
    "                              bucket=bucket_name, \n",
    "                              key_prefix=training_folder)"
   ]
  },
  {
   "cell_type": "code",
   "execution_count": null,
   "metadata": {},
   "outputs": [],
   "source": [
    "# Upload test data:\n",
    "sagemaker_session.upload_data(test_file, \n",
    "                              bucket=bucket_name, \n",
    "                              key_prefix=test_folder)"
   ]
  },
  {
   "cell_type": "code",
   "execution_count": null,
   "metadata": {},
   "outputs": [],
   "source": [
    "!pygmentize 'rfcustom.py'"
   ]
  },
  {
   "cell_type": "code",
   "execution_count": null,
   "metadata": {},
   "outputs": [],
   "source": [
    "# set instance_type='ml.m5.xlarge'\n",
    "instance_type='local'"
   ]
  },
  {
   "cell_type": "code",
   "execution_count": null,
   "metadata": {},
   "outputs": [],
   "source": [
    "# Build instance:\n",
    "estimator = SKLearn(entry_point='rfcustom.py',\n",
    "                    train_instance_type= instance_type,                     \n",
    "                    role=role, \n",
    "                    output_path=model_data_uri,\n",
    "                    base_job_name='Custom Random-forest',\n",
    "                    hyperparameters={'n_estimators': 5,'max_depth':3})"
   ]
  },
  {
   "cell_type": "markdown",
   "metadata": {},
   "source": [
    "## Train the model"
   ]
  },
  {
   "cell_type": "code",
   "execution_count": null,
   "metadata": {},
   "outputs": [],
   "source": [
    "# Train the model:\n",
    "estimator.fit({'training':training_data_uri,'testing':testing_data_uri})"
   ]
  },
  {
   "cell_type": "markdown",
   "metadata": {},
   "source": [
    "## Deploy the Model"
   ]
  },
  {
   "cell_type": "code",
   "execution_count": null,
   "metadata": {},
   "outputs": [],
   "source": [
    "# Deploy the model:\n",
    "predictor = estimator.deploy(initial_instance_count=1, \n",
    "                           instance_type=instance_type)"
   ]
  },
  {
   "cell_type": "code",
   "execution_count": null,
   "metadata": {},
   "outputs": [],
   "source": [
    "# Read test file:\n",
    "dftst = pd.read_csv(test_file,names=columnReq)\n",
    "dftst.head()"
   ]
  },
  {
   "cell_type": "code",
   "execution_count": null,
   "metadata": {},
   "outputs": [],
   "source": [
    "# View test data for X:\n",
    "xtest=dftst.iloc[:,1:]\n",
    "xtest.head()"
   ]
  },
  {
   "cell_type": "code",
   "execution_count": null,
   "metadata": {},
   "outputs": [],
   "source": [
    "# View y:\n",
    "ytest=dftst.iloc[:,0:1]"
   ]
  },
  {
   "cell_type": "code",
   "execution_count": null,
   "metadata": {},
   "outputs": [],
   "source": [
    "# Import required libraries:\n",
    "from sklearn import preprocessing\n",
    "from sklearn.metrics import classification_report, confusion_matrix"
   ]
  },
  {
   "cell_type": "code",
   "execution_count": null,
   "metadata": {},
   "outputs": [],
   "source": [
    "# Predict:\n",
    "k=predictor.predict(xtest)"
   ]
  },
  {
   "cell_type": "code",
   "execution_count": null,
   "metadata": {},
   "outputs": [],
   "source": [
    "# Print Confusion Matrix:\n",
    "confusion_matrix(ytest,k)"
   ]
  },
  {
   "cell_type": "code",
   "execution_count": null,
   "metadata": {},
   "outputs": [],
   "source": [
    "# Print classification report:\n",
    "classification_report(ytest,k)"
   ]
  }
 ],
 "metadata": {
  "kernelspec": {
   "display_name": "Python 3",
   "language": "python",
   "name": "python3"
  },
  "language_info": {
   "codemirror_mode": {
    "name": "ipython",
    "version": 3
   },
   "file_extension": ".py",
   "mimetype": "text/x-python",
   "name": "python",
   "nbconvert_exporter": "python",
   "pygments_lexer": "ipython3",
   "version": "3.6.10"
  }
 },
 "nbformat": 4,
 "nbformat_minor": 4
}
